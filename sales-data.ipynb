{
 "cells": [
  {
   "cell_type": "code",
   "execution_count": 2,
   "id": "cecca18d-adbe-4cf8-8208-bf26d5a6b733",
   "metadata": {},
   "outputs": [],
   "source": [
    "import pandas as pd\n",
    "\n",
    "df1 = pd.read_csv('~/Desktop/fct_invoice.csv')\n",
    "\n",
    "df2 = pd.read_json('~/Desktop/dim_customer.json')"
   ]
  },
  {
   "cell_type": "code",
   "execution_count": 3,
   "id": "506ca03d-ce9a-425e-ada2-0f8fe424e220",
   "metadata": {},
   "outputs": [
    {
     "data": {
      "text/html": [
       "<div>\n",
       "<style scoped>\n",
       "    .dataframe tbody tr th:only-of-type {\n",
       "        vertical-align: middle;\n",
       "    }\n",
       "\n",
       "    .dataframe tbody tr th {\n",
       "        vertical-align: top;\n",
       "    }\n",
       "\n",
       "    .dataframe thead th {\n",
       "        text-align: right;\n",
       "    }\n",
       "</style>\n",
       "<table border=\"1\" class=\"dataframe\">\n",
       "  <thead>\n",
       "    <tr style=\"text-align: right;\">\n",
       "      <th></th>\n",
       "      <th>invoice_no</th>\n",
       "      <th>customer_id</th>\n",
       "      <th>category</th>\n",
       "      <th>quantity</th>\n",
       "      <th>price</th>\n",
       "      <th>payment_method</th>\n",
       "      <th>invoice_date</th>\n",
       "      <th>shopping_mall</th>\n",
       "    </tr>\n",
       "  </thead>\n",
       "  <tbody>\n",
       "    <tr>\n",
       "      <th>0</th>\n",
       "      <td>I138884</td>\n",
       "      <td>229</td>\n",
       "      <td>Clothing</td>\n",
       "      <td>5</td>\n",
       "      <td>1500.40</td>\n",
       "      <td>Credit Card</td>\n",
       "      <td>5/8/2022</td>\n",
       "      <td>Kanyon</td>\n",
       "    </tr>\n",
       "    <tr>\n",
       "      <th>1</th>\n",
       "      <td>I317333</td>\n",
       "      <td>3433</td>\n",
       "      <td>Shoes</td>\n",
       "      <td>3</td>\n",
       "      <td>1800.51</td>\n",
       "      <td>Debit Card</td>\n",
       "      <td>12/12/2021</td>\n",
       "      <td>Forum Istanbul</td>\n",
       "    </tr>\n",
       "    <tr>\n",
       "      <th>2</th>\n",
       "      <td>I127801</td>\n",
       "      <td>644</td>\n",
       "      <td>Clothing</td>\n",
       "      <td>1</td>\n",
       "      <td>300.08</td>\n",
       "      <td>Cash</td>\n",
       "      <td>9/11/2021</td>\n",
       "      <td>Metrocity</td>\n",
       "    </tr>\n",
       "    <tr>\n",
       "      <th>3</th>\n",
       "      <td>I173702</td>\n",
       "      <td>4900</td>\n",
       "      <td>Shoes</td>\n",
       "      <td>5</td>\n",
       "      <td>3000.85</td>\n",
       "      <td>Credit Card</td>\n",
       "      <td>16/05/2021</td>\n",
       "      <td>Metropol AVM</td>\n",
       "    </tr>\n",
       "    <tr>\n",
       "      <th>4</th>\n",
       "      <td>I337046</td>\n",
       "      <td>1089</td>\n",
       "      <td>Books</td>\n",
       "      <td>4</td>\n",
       "      <td>60.60</td>\n",
       "      <td>Cash</td>\n",
       "      <td>24/10/2021</td>\n",
       "      <td>Kanyon</td>\n",
       "    </tr>\n",
       "    <tr>\n",
       "      <th>...</th>\n",
       "      <td>...</td>\n",
       "      <td>...</td>\n",
       "      <td>...</td>\n",
       "      <td>...</td>\n",
       "      <td>...</td>\n",
       "      <td>...</td>\n",
       "      <td>...</td>\n",
       "      <td>...</td>\n",
       "    </tr>\n",
       "    <tr>\n",
       "      <th>99452</th>\n",
       "      <td>I219422</td>\n",
       "      <td>2344</td>\n",
       "      <td>Souvenir</td>\n",
       "      <td>5</td>\n",
       "      <td>58.65</td>\n",
       "      <td>Credit Card</td>\n",
       "      <td>21/09/2022</td>\n",
       "      <td>Kanyon</td>\n",
       "    </tr>\n",
       "    <tr>\n",
       "      <th>99453</th>\n",
       "      <td>I325143</td>\n",
       "      <td>172</td>\n",
       "      <td>Food &amp; Beverage</td>\n",
       "      <td>2</td>\n",
       "      <td>10.46</td>\n",
       "      <td>Cash</td>\n",
       "      <td>22/09/2021</td>\n",
       "      <td>Forum Istanbul</td>\n",
       "    </tr>\n",
       "    <tr>\n",
       "      <th>99454</th>\n",
       "      <td>I824010</td>\n",
       "      <td>425</td>\n",
       "      <td>Food &amp; Beverage</td>\n",
       "      <td>2</td>\n",
       "      <td>10.46</td>\n",
       "      <td>Debit Card</td>\n",
       "      <td>28/03/2021</td>\n",
       "      <td>Metrocity</td>\n",
       "    </tr>\n",
       "    <tr>\n",
       "      <th>99455</th>\n",
       "      <td>I702964</td>\n",
       "      <td>577</td>\n",
       "      <td>Technology</td>\n",
       "      <td>4</td>\n",
       "      <td>4200.00</td>\n",
       "      <td>Cash</td>\n",
       "      <td>16/03/2021</td>\n",
       "      <td>Istinye Park</td>\n",
       "    </tr>\n",
       "    <tr>\n",
       "      <th>99456</th>\n",
       "      <td>I232867</td>\n",
       "      <td>30</td>\n",
       "      <td>Souvenir</td>\n",
       "      <td>3</td>\n",
       "      <td>35.19</td>\n",
       "      <td>Credit Card</td>\n",
       "      <td>15/10/2022</td>\n",
       "      <td>Mall of Istanbul</td>\n",
       "    </tr>\n",
       "  </tbody>\n",
       "</table>\n",
       "<p>99457 rows × 8 columns</p>\n",
       "</div>"
      ],
      "text/plain": [
       "      invoice_no  customer_id         category  quantity    price  \\\n",
       "0        I138884          229         Clothing         5  1500.40   \n",
       "1        I317333         3433            Shoes         3  1800.51   \n",
       "2        I127801          644         Clothing         1   300.08   \n",
       "3        I173702         4900            Shoes         5  3000.85   \n",
       "4        I337046         1089            Books         4    60.60   \n",
       "...          ...          ...              ...       ...      ...   \n",
       "99452    I219422         2344         Souvenir         5    58.65   \n",
       "99453    I325143          172  Food & Beverage         2    10.46   \n",
       "99454    I824010          425  Food & Beverage         2    10.46   \n",
       "99455    I702964          577       Technology         4  4200.00   \n",
       "99456    I232867           30         Souvenir         3    35.19   \n",
       "\n",
       "      payment_method invoice_date     shopping_mall  \n",
       "0        Credit Card     5/8/2022            Kanyon  \n",
       "1         Debit Card   12/12/2021    Forum Istanbul  \n",
       "2               Cash    9/11/2021         Metrocity  \n",
       "3        Credit Card   16/05/2021      Metropol AVM  \n",
       "4               Cash   24/10/2021            Kanyon  \n",
       "...              ...          ...               ...  \n",
       "99452    Credit Card   21/09/2022            Kanyon  \n",
       "99453           Cash   22/09/2021    Forum Istanbul  \n",
       "99454     Debit Card   28/03/2021         Metrocity  \n",
       "99455           Cash   16/03/2021      Istinye Park  \n",
       "99456    Credit Card   15/10/2022  Mall of Istanbul  \n",
       "\n",
       "[99457 rows x 8 columns]"
      ]
     },
     "execution_count": 3,
     "metadata": {},
     "output_type": "execute_result"
    }
   ],
   "source": [
    "df1"
   ]
  },
  {
   "cell_type": "code",
   "execution_count": 4,
   "id": "2b85d5be-3af7-4fff-aa60-456d0f11cb47",
   "metadata": {},
   "outputs": [
    {
     "data": {
      "text/html": [
       "<div>\n",
       "<style scoped>\n",
       "    .dataframe tbody tr th:only-of-type {\n",
       "        vertical-align: middle;\n",
       "    }\n",
       "\n",
       "    .dataframe tbody tr th {\n",
       "        vertical-align: top;\n",
       "    }\n",
       "\n",
       "    .dataframe thead th {\n",
       "        text-align: right;\n",
       "    }\n",
       "</style>\n",
       "<table border=\"1\" class=\"dataframe\">\n",
       "  <thead>\n",
       "    <tr style=\"text-align: right;\">\n",
       "      <th></th>\n",
       "      <th>age</th>\n",
       "      <th>first_name</th>\n",
       "      <th>gender</th>\n",
       "      <th>id</th>\n",
       "      <th>last_name</th>\n",
       "    </tr>\n",
       "  </thead>\n",
       "  <tbody>\n",
       "    <tr>\n",
       "      <th>0</th>\n",
       "      <td>48.0</td>\n",
       "      <td>Nicholas</td>\n",
       "      <td>M</td>\n",
       "      <td>0</td>\n",
       "      <td>Flores</td>\n",
       "    </tr>\n",
       "    <tr>\n",
       "      <th>1</th>\n",
       "      <td>NaN</td>\n",
       "      <td>Jeffery</td>\n",
       "      <td>M</td>\n",
       "      <td>1</td>\n",
       "      <td>Rowe</td>\n",
       "    </tr>\n",
       "    <tr>\n",
       "      <th>2</th>\n",
       "      <td>57.0</td>\n",
       "      <td>Alexis</td>\n",
       "      <td>F</td>\n",
       "      <td>2</td>\n",
       "      <td>Benton</td>\n",
       "    </tr>\n",
       "    <tr>\n",
       "      <th>3</th>\n",
       "      <td>73.0</td>\n",
       "      <td>Amy</td>\n",
       "      <td>F</td>\n",
       "      <td>3</td>\n",
       "      <td>Johnson</td>\n",
       "    </tr>\n",
       "    <tr>\n",
       "      <th>4</th>\n",
       "      <td>20.0</td>\n",
       "      <td>David</td>\n",
       "      <td>M</td>\n",
       "      <td>4</td>\n",
       "      <td>Moore</td>\n",
       "    </tr>\n",
       "    <tr>\n",
       "      <th>...</th>\n",
       "      <td>...</td>\n",
       "      <td>...</td>\n",
       "      <td>...</td>\n",
       "      <td>...</td>\n",
       "      <td>...</td>\n",
       "    </tr>\n",
       "    <tr>\n",
       "      <th>5186</th>\n",
       "      <td>NaN</td>\n",
       "      <td>Arthur</td>\n",
       "      <td>M</td>\n",
       "      <td>9428</td>\n",
       "      <td>Harris</td>\n",
       "    </tr>\n",
       "    <tr>\n",
       "      <th>5187</th>\n",
       "      <td>NaN</td>\n",
       "      <td>David</td>\n",
       "      <td>M</td>\n",
       "      <td>9494</td>\n",
       "      <td>Roy</td>\n",
       "    </tr>\n",
       "    <tr>\n",
       "      <th>5188</th>\n",
       "      <td>85.0</td>\n",
       "      <td>Thomas</td>\n",
       "      <td>M</td>\n",
       "      <td>10350</td>\n",
       "      <td>Turner</td>\n",
       "    </tr>\n",
       "    <tr>\n",
       "      <th>5189</th>\n",
       "      <td>NaN</td>\n",
       "      <td>April</td>\n",
       "      <td>F</td>\n",
       "      <td>10587</td>\n",
       "      <td>Sanchez</td>\n",
       "    </tr>\n",
       "    <tr>\n",
       "      <th>5190</th>\n",
       "      <td>NaN</td>\n",
       "      <td>Andrew</td>\n",
       "      <td>M</td>\n",
       "      <td>10934</td>\n",
       "      <td>Compton</td>\n",
       "    </tr>\n",
       "  </tbody>\n",
       "</table>\n",
       "<p>5191 rows × 5 columns</p>\n",
       "</div>"
      ],
      "text/plain": [
       "       age first_name gender     id last_name\n",
       "0     48.0   Nicholas      M      0    Flores\n",
       "1      NaN    Jeffery      M      1      Rowe\n",
       "2     57.0     Alexis      F      2    Benton\n",
       "3     73.0        Amy      F      3   Johnson\n",
       "4     20.0      David      M      4     Moore\n",
       "...    ...        ...    ...    ...       ...\n",
       "5186   NaN     Arthur      M   9428    Harris\n",
       "5187   NaN      David      M   9494       Roy\n",
       "5188  85.0     Thomas      M  10350    Turner\n",
       "5189   NaN      April      F  10587   Sanchez\n",
       "5190   NaN     Andrew      M  10934   Compton\n",
       "\n",
       "[5191 rows x 5 columns]"
      ]
     },
     "execution_count": 4,
     "metadata": {},
     "output_type": "execute_result"
    }
   ],
   "source": [
    "df2"
   ]
  },
  {
   "cell_type": "code",
   "execution_count": 5,
   "id": "2cad8d41-d86b-4fcf-a660-e5f6d7e86507",
   "metadata": {},
   "outputs": [
    {
     "data": {
      "text/plain": [
       "5191"
      ]
     },
     "execution_count": 5,
     "metadata": {},
     "output_type": "execute_result"
    }
   ],
   "source": [
    "#1-Easy: How many unique customers are in the dataset?\n",
    "df1[\"customer_id\"].nunique()"
   ]
  },
  {
   "cell_type": "code",
   "execution_count": 6,
   "id": "d62c918c-46c5-461f-afca-ff1a4a087934",
   "metadata": {},
   "outputs": [
    {
     "data": {
      "text/plain": [
       "['Clothing',\n",
       " 'Shoes',\n",
       " 'Books',\n",
       " 'Cosmetics',\n",
       " 'Food & Beverage',\n",
       " 'Toys',\n",
       " 'Technology',\n",
       " 'Souvenir']"
      ]
     },
     "execution_count": 6,
     "metadata": {},
     "output_type": "execute_result"
    }
   ],
   "source": [
    "#2-Easy: What are the different categories of products available? How many unique categories are there?\n",
    "#2a-Easy Different categories of products available\n",
    "df1['category'].unique().tolist()"
   ]
  },
  {
   "cell_type": "code",
   "execution_count": 7,
   "id": "5aa246f9-3ca0-4c0e-b704-f12be4acf114",
   "metadata": {},
   "outputs": [
    {
     "data": {
      "text/plain": [
       "8"
      ]
     },
     "execution_count": 7,
     "metadata": {},
     "output_type": "execute_result"
    }
   ],
   "source": [
    "#2b Number of unique categories\n",
    "len(df1['category'].unique())"
   ]
  },
  {
   "cell_type": "code",
   "execution_count": 8,
   "id": "07948e62-ce42-44b6-adcc-4ce682425673",
   "metadata": {},
   "outputs": [
    {
     "data": {
      "text/plain": [
       "'Cash'"
      ]
     },
     "execution_count": 8,
     "metadata": {},
     "output_type": "execute_result"
    }
   ],
   "source": [
    "#3-Easy Which payment method is the most popular? How many times was it used?\n",
    "#3a-Easy: Which payment method is the most popular?\n",
    "df1['payment_method'].mode()[0]"
   ]
  },
  {
   "cell_type": "code",
   "execution_count": 9,
   "id": "196ed43d-1d55-4ee5-92bb-875a20c7d37f",
   "metadata": {},
   "outputs": [
    {
     "data": {
      "text/plain": [
       "44447"
      ]
     },
     "execution_count": 9,
     "metadata": {},
     "output_type": "execute_result"
    }
   ],
   "source": [
    "#3b-Easy: How many times was it used?\n",
    "df1[df1['payment_method'] == 'Cash'].shape[0]"
   ]
  },
  {
   "cell_type": "code",
   "execution_count": 10,
   "id": "bd52717b-d42d-4022-ac16-7cea1fbde5d3",
   "metadata": {},
   "outputs": [
    {
     "data": {
      "text/plain": [
       "['Clothing', 'Shoes', 'Technology']"
      ]
     },
     "execution_count": 10,
     "metadata": {},
     "output_type": "execute_result"
    }
   ],
   "source": [
    "#1-Medium: What are the three most popular categories, by total sales?\n",
    "df1['Total_sales'] = df1['quantity'] * df1['price']\n",
    "\n",
    "top_categories = df1.groupby('category')['Total_sales'].sum().nlargest(3)\n",
    "top_categories.index.tolist()"
   ]
  },
  {
   "cell_type": "code",
   "execution_count": 11,
   "id": "c3249326-6fbd-4107-81b7-ab3920854d8e",
   "metadata": {},
   "outputs": [
    {
     "data": {
      "text/plain": [
       "82039768.14999999"
      ]
     },
     "execution_count": 11,
     "metadata": {},
     "output_type": "execute_result"
    }
   ],
   "source": [
    "#2-Medium: What are the total sales attributed to customers over the age of 45?\n",
    "merged_table = pd.merge(df1, df2, left_on = 'customer_id', right_on = 'id', how = 'outer')\n",
    "merged_table['total_sales'] = merged_table['quantity']*merged_table['price']\n",
    "table_for_over_45 = merged_table[merged_table['age']>45]\n",
    "total_sales = table_for_over_45['total_sales'].sum()\n",
    "total_sales"
   ]
  },
  {
   "cell_type": "code",
   "execution_count": 12,
   "id": "88ca9cf4-de96-4695-95d1-9100219d5e94",
   "metadata": {
    "scrolled": true
   },
   "outputs": [
    {
     "data": {
      "image/png": "[encoded data removed]",
      "text/plain": [
       "<Figure size 640x480 with 1 Axes>"
      ]
     },
     "metadata": {},
     "output_type": "display_data"
    }
   ],
   "source": [
    "#3-Medium: How is the data distributed across different invoice dates? Are there any seasonal trends or patterns? (Use a graph for this.)\n",
    "import matplotlib.pyplot as plt\n",
    "from datetime import datetime\n",
    "\n",
    "df1['invoice_date'] = pd.to_datetime(df1['invoice_date'], errors = 'coerce', dayfirst = True)\n",
    "\n",
    "sorted_dates = df1['invoice_date'].value_counts().sort_index()\n",
    "sorted_dates.plot()\n",
    "plt.title(\"Invoice Date Distribution\")\n",
    "plt.xlabel(\"Date\")\n",
    "plt.ylabel(\"Frequency\")\n",
    "plt.show()\n",
    "\n",
    "#Essay answer: There are no seasonal trends in the dataset."
   ]
  },
  {
   "cell_type": "code",
   "execution_count": 18,
   "id": "f0ca6620-1ac8-4961-a5f5-3a57392c9d4e",
   "metadata": {},
   "outputs": [
    {
     "name": "stderr",
     "output_type": "stream",
     "text": [
      "/var/folders/dk/dwlf3s3n1yj6wmvs7x1v56bc0000gn/T/ipykernel_26308/2602713935.py:10: FutureWarning: The default value of observed=False is deprecated and will change to observed=True in a future version of pandas. Specify observed=False to silence this warning and retain the current behavior\n",
      "  pd.pivot_table(\n"
     ]
    },
    {
     "data": {
      "text/html": [
       "<div>\n",
       "<style scoped>\n",
       "    .dataframe tbody tr th:only-of-type {\n",
       "        vertical-align: middle;\n",
       "    }\n",
       "\n",
       "    .dataframe tbody tr th {\n",
       "        vertical-align: top;\n",
       "    }\n",
       "\n",
       "    .dataframe thead th {\n",
       "        text-align: right;\n",
       "    }\n",
       "</style>\n",
       "<table border=\"1\" class=\"dataframe\">\n",
       "  <thead>\n",
       "    <tr style=\"text-align: right;\">\n",
       "      <th>age_group</th>\n",
       "      <th>10-19</th>\n",
       "      <th>20-29</th>\n",
       "      <th>30-39</th>\n",
       "      <th>40-49</th>\n",
       "      <th>50-59</th>\n",
       "      <th>60-69</th>\n",
       "      <th>70-79</th>\n",
       "      <th>80-89</th>\n",
       "    </tr>\n",
       "    <tr>\n",
       "      <th>category</th>\n",
       "      <th></th>\n",
       "      <th></th>\n",
       "      <th></th>\n",
       "      <th></th>\n",
       "      <th></th>\n",
       "      <th></th>\n",
       "      <th></th>\n",
       "      <th></th>\n",
       "    </tr>\n",
       "  </thead>\n",
       "  <tbody>\n",
       "    <tr>\n",
       "      <th>Books</th>\n",
       "      <td>12801.75</td>\n",
       "      <td>79461.75</td>\n",
       "      <td>84143.10</td>\n",
       "      <td>87203.40</td>\n",
       "      <td>74962.20</td>\n",
       "      <td>80476.80</td>\n",
       "      <td>54827.85</td>\n",
       "      <td>26664.00</td>\n",
       "    </tr>\n",
       "    <tr>\n",
       "      <th>Clothing</th>\n",
       "      <td>1927413.84</td>\n",
       "      <td>10250732.80</td>\n",
       "      <td>11354126.96</td>\n",
       "      <td>11215189.92</td>\n",
       "      <td>10321851.76</td>\n",
       "      <td>10660642.08</td>\n",
       "      <td>7769371.28</td>\n",
       "      <td>4493698.00</td>\n",
       "    </tr>\n",
       "    <tr>\n",
       "      <th>Cosmetics</th>\n",
       "      <td>109619.36</td>\n",
       "      <td>605915.32</td>\n",
       "      <td>723544.70</td>\n",
       "      <td>665034.96</td>\n",
       "      <td>587780.96</td>\n",
       "      <td>649990.76</td>\n",
       "      <td>419082.62</td>\n",
       "      <td>254531.60</td>\n",
       "    </tr>\n",
       "    <tr>\n",
       "      <th>Food &amp; Beverage</th>\n",
       "      <td>13582.31</td>\n",
       "      <td>73491.96</td>\n",
       "      <td>87246.86</td>\n",
       "      <td>89553.29</td>\n",
       "      <td>72425.04</td>\n",
       "      <td>80976.09</td>\n",
       "      <td>55050.98</td>\n",
       "      <td>31332.93</td>\n",
       "    </tr>\n",
       "    <tr>\n",
       "      <th>Shoes</th>\n",
       "      <td>993281.35</td>\n",
       "      <td>5924878.24</td>\n",
       "      <td>7200839.66</td>\n",
       "      <td>7025590.02</td>\n",
       "      <td>5852857.84</td>\n",
       "      <td>5978893.54</td>\n",
       "      <td>4480269.05</td>\n",
       "      <td>2628744.60</td>\n",
       "    </tr>\n",
       "    <tr>\n",
       "      <th>Souvenir</th>\n",
       "      <td>12375.15</td>\n",
       "      <td>54943.32</td>\n",
       "      <td>64092.72</td>\n",
       "      <td>66391.80</td>\n",
       "      <td>54943.32</td>\n",
       "      <td>55025.43</td>\n",
       "      <td>38673.81</td>\n",
       "      <td>23718.06</td>\n",
       "    </tr>\n",
       "    <tr>\n",
       "      <th>Technology</th>\n",
       "      <td>1129800.00</td>\n",
       "      <td>5261550.00</td>\n",
       "      <td>6159300.00</td>\n",
       "      <td>5954550.00</td>\n",
       "      <td>4435200.00</td>\n",
       "      <td>5471550.00</td>\n",
       "      <td>3638250.00</td>\n",
       "      <td>1946700.00</td>\n",
       "    </tr>\n",
       "    <tr>\n",
       "      <th>Toys</th>\n",
       "      <td>60426.24</td>\n",
       "      <td>385100.80</td>\n",
       "      <td>420582.40</td>\n",
       "      <td>390906.88</td>\n",
       "      <td>345067.52</td>\n",
       "      <td>363955.20</td>\n",
       "      <td>273244.16</td>\n",
       "      <td>153932.80</td>\n",
       "    </tr>\n",
       "  </tbody>\n",
       "</table>\n",
       "</div>"
      ],
      "text/plain": [
       "age_group             10-19        20-29        30-39        40-49  \\\n",
       "category                                                             \n",
       "Books              12801.75     79461.75     84143.10     87203.40   \n",
       "Clothing         1927413.84  10250732.80  11354126.96  11215189.92   \n",
       "Cosmetics         109619.36    605915.32    723544.70    665034.96   \n",
       "Food & Beverage    13582.31     73491.96     87246.86     89553.29   \n",
       "Shoes             993281.35   5924878.24   7200839.66   7025590.02   \n",
       "Souvenir           12375.15     54943.32     64092.72     66391.80   \n",
       "Technology       1129800.00   5261550.00   6159300.00   5954550.00   \n",
       "Toys               60426.24    385100.80    420582.40    390906.88   \n",
       "\n",
       "age_group              50-59        60-69       70-79       80-89  \n",
       "category                                                           \n",
       "Books               74962.20     80476.80    54827.85    26664.00  \n",
       "Clothing         10321851.76  10660642.08  7769371.28  4493698.00  \n",
       "Cosmetics          587780.96    649990.76   419082.62   254531.60  \n",
       "Food & Beverage     72425.04     80976.09    55050.98    31332.93  \n",
       "Shoes             5852857.84   5978893.54  4480269.05  2628744.60  \n",
       "Souvenir            54943.32     55025.43    38673.81    23718.06  \n",
       "Technology        4435200.00   5471550.00  3638250.00  1946700.00  \n",
       "Toys               345067.52    363955.20   273244.16   153932.80  "
      ]
     },
     "execution_count": 18,
     "metadata": {},
     "output_type": "execute_result"
    }
   ],
   "source": [
    "#1-Hard: Create a pivot table showing the breakdown of sales across these dimensions, in this order: category, decade age range (e.g., 10-19, 20-29, and so forth).\n",
    "merged_df = df1.merge(df2[['id', 'age']], how='left', left_on='customer_id', right_on='id')\n",
    "merged_df = merged_df.dropna(subset=['age'])\n",
    "merged_df['Total_sales'] = merged_df['quantity'] * merged_df['price']\n",
    "bins = list(range(10, 100, 10)) \n",
    "labels = [f\"{i}-{i+9}\" for i in bins[0:-1]]\n",
    "\n",
    "merged_df['age_group'] = pd.cut(merged_df['age'], bins=bins, labels=labels, right=False)\n",
    "merged_df = merged_df.dropna(subset=['age_group'])\n",
    "pd.pivot_table(\n",
    "    merged_df,\n",
    "    values='Total_sales',\n",
    "    index='category',\n",
    "    columns='age_group',\n",
    "    aggfunc='sum',\n",
    "    fill_value=0 \n",
    ")"
   ]
  },
  {
   "cell_type": "code",
   "execution_count": null,
   "id": "9af8c0ce-09a4-4a99-8aff-77050b93e0f3",
   "metadata": {},
   "outputs": [],
   "source": []
  }
 ],
 "metadata": {
  "kernelspec": {
   "display_name": "Python [conda env:base] *",
   "language": "python",
   "name": "conda-base-py"
  },
  "language_info": {
   "codemirror_mode": {
    "name": "ipython",
    "version": 3
   },
   "file_extension": ".py",
   "mimetype": "text/x-python",
   "name": "python",
   "nbconvert_exporter": "python",
   "pygments_lexer": "ipython3",
   "version": "3.12.7"
  }
 },
 "nbformat": 4,
 "nbformat_minor": 5
}
