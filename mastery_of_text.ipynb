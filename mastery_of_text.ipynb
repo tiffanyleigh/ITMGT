{
 "cells": [
  {
   "cell_type": "code",
   "execution_count": 41,
   "id": "11a90416-bd21-41e6-a7a0-b7a8f549f961",
   "metadata": {},
   "outputs": [],
   "source": [
    "import urllib.request\n",
    "\n",
    "with urllib.request.urlopen(\"https://www.gutenberg.org/cache/epub/10/pg10.txt\") as response:\n",
    "    pg10_not_decoded = response.read()\n",
    "\n",
    "pg10 = pg10_not_decoded.decode('utf-8')"
   ]
  },
  {
   "cell_type": "code",
   "execution_count": 42,
   "id": "54b1a32e-e7d3-4bd7-a32b-71ed3ea4ea64",
   "metadata": {},
   "outputs": [],
   "source": [
    "#1 How many lines does the string have?"
   ]
  },
  {
   "cell_type": "code",
   "execution_count": 43,
   "id": "19c2272d-164b-482e-b623-ca7d0f82dfe3",
   "metadata": {},
   "outputs": [
    {
     "name": "stdout",
     "output_type": "stream",
     "text": [
      "Total number of lines: 99968\n"
     ]
    }
   ],
   "source": [
    "lines = len(pg10.splitlines())\n",
    "print(\"Total number of lines: \" + str(lines))"
   ]
  },
  {
   "cell_type": "code",
   "execution_count": 44,
   "id": "1dfbb971-bcd0-4ef8-9b0d-031c6858758d",
   "metadata": {},
   "outputs": [],
   "source": [
    "#2 How many words does the string have? (where a word is any set of directly-adjacent alphabet characters)"
   ]
  },
  {
   "cell_type": "code",
   "execution_count": 45,
   "id": "8da84763-5410-4301-b2ce-88d7830bb380",
   "metadata": {},
   "outputs": [
    {
     "name": "stdout",
     "output_type": "stream",
     "text": [
      "Total number of words in the string: 795227\n"
     ]
    }
   ],
   "source": [
    "word_list = []\n",
    "word = \"\"\n",
    "\n",
    "for ch in pg10:\n",
    "    if ch.isalpha():\n",
    "        word += ch\n",
    "    else:\n",
    "        if  word != \"\":\n",
    "            word_list.append(word)\n",
    "            word = \"\"\n",
    "\n",
    "word_count = len(word_list)\n",
    "print(\"Total number of words in the string: \" + str(word_count))"
   ]
  },
  {
   "cell_type": "code",
   "execution_count": 46,
   "id": "2cef09e7-c87c-4270-bfcf-35a7241cadb1",
   "metadata": {},
   "outputs": [],
   "source": [
    "#3 How many times does the word \"apostle\", ignoring capitalization, appear in the string?"
   ]
  },
  {
   "cell_type": "code",
   "execution_count": 47,
   "id": "30d61ab5-d9e8-4195-ba2c-d6f2c6d2b888",
   "metadata": {},
   "outputs": [],
   "source": [
    "#3a How many times does the word \"apostle\", ignoring capitalization, appear in the string? (including appearances as part of longer words)"
   ]
  },
  {
   "cell_type": "code",
   "execution_count": 48,
   "id": "3992c5fd-f1e2-496f-83f8-d0b34e442dd0",
   "metadata": {},
   "outputs": [
    {
     "name": "stdout",
     "output_type": "stream",
     "text": [
      "Total number of times apostle appears (including appearances in longer words): 113\n"
     ]
    }
   ],
   "source": [
    "lowercase_word_list = [word.lower() for word in word_list]\n",
    "\n",
    "apostle_count = 0\n",
    "\n",
    "for word in lowercase_word_list:\n",
    "    if \"apostle\" in word:\n",
    "        apostle_count += 1\n",
    "\n",
    "print(\"Total number of times apostle appears (including appearances in longer words): \" + str(apostle_count))"
   ]
  },
  {
   "cell_type": "code",
   "execution_count": 49,
   "id": "1a49beef-24a3-4279-9c9d-e6f4b809205e",
   "metadata": {},
   "outputs": [],
   "source": [
    "#3b How many times does the word \"apostle\", ignoring capitalization, appear in the string? (\"apostle\" as an individual word)"
   ]
  },
  {
   "cell_type": "code",
   "execution_count": 50,
   "id": "ed43713c-9606-44ca-8524-67dbbb531ee6",
   "metadata": {},
   "outputs": [
    {
     "name": "stdout",
     "output_type": "stream",
     "text": [
      "Total number of times apostle appears as an individual word: 47\n"
     ]
    }
   ],
   "source": [
    "lowercase_word_list = [word.lower() for word in word_list]\n",
    "apostle_count = lowercase_word_list.count(\"apostle\")\n",
    "print(\"Total number of times apostle appears as an individual word: \" + str(apostle_count))"
   ]
  },
  {
   "cell_type": "code",
   "execution_count": 51,
   "id": "9e13ec96-e78c-41ff-9479-39d805574a45",
   "metadata": {},
   "outputs": [
    {
     "name": "stdout",
     "output_type": "stream",
     "text": [
      "The most common word is the.\n"
     ]
    }
   ],
   "source": [
    "split_lowercase_text = [word.lower() for word in word_list]\n",
    "word_counts = {}\n",
    "\n",
    "for word in split_lowercase_text:\n",
    "    if word in word_counts:\n",
    "        word_counts[word] += 1\n",
    "    else:\n",
    "        word_counts[word] = 1\n",
    "\n",
    "most_common_word = \"\"\n",
    "highest_count = 0\n",
    "\n",
    "for word in word_counts:\n",
    "    if word_counts[word] > highest_count:\n",
    "        highest_count = word_counts[word]\n",
    "        most_common_word = word\n",
    "\n",
    "print(\"The most common word is \" + most_common_word + \".\")"
   ]
  }
 ],
 "metadata": {
  "kernelspec": {
   "display_name": "Python [conda env:base] *",
   "language": "python",
   "name": "conda-base-py"
  },
  "language_info": {
   "codemirror_mode": {
    "name": "ipython",
    "version": 3
   },
   "file_extension": ".py",
   "mimetype": "text/x-python",
   "name": "python",
   "nbconvert_exporter": "python",
   "pygments_lexer": "ipython3",
   "version": "3.12.7"
  }
 },
 "nbformat": 4,
 "nbformat_minor": 5
}
